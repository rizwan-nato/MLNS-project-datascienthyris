{
 "cells": [
  {
   "cell_type": "code",
   "execution_count": 1,
   "metadata": {},
   "outputs": [],
   "source": [
    "import networkx as nx\n",
    "import os\n",
    "from tqdm.notebook import tqdm\n",
    "import scipy.stats\n",
    "import numpy as np\n",
    "import shutil\n",
    "import pickle"
   ]
  },
  {
   "cell_type": "code",
   "execution_count": 2,
   "metadata": {},
   "outputs": [
    {
     "ename": "FileExistsError",
     "evalue": "[Errno 17] File exists: 'data_pearsonr'",
     "output_type": "error",
     "traceback": [
      "\u001b[0;31m---------------------------------------------------------------------------\u001b[0m",
      "\u001b[0;31mFileExistsError\u001b[0m                           Traceback (most recent call last)",
      "\u001b[1;32m/home/polyxene/MLNS-project-datascienthyris/create_graph_sequence/top_3_edges.ipynb Cell 2'\u001b[0m in \u001b[0;36m<cell line: 3>\u001b[0;34m()\u001b[0m\n\u001b[1;32m      <a href='vscode-notebook-cell://wsl%2Bubuntu/home/polyxene/MLNS-project-datascienthyris/create_graph_sequence/top_3_edges.ipynb#ch0000001vscode-remote?line=0'>1</a>\u001b[0m src \u001b[39m=\u001b[39m \u001b[39m'\u001b[39m\u001b[39mdata_processed\u001b[39m\u001b[39m'\u001b[39m\n\u001b[1;32m      <a href='vscode-notebook-cell://wsl%2Bubuntu/home/polyxene/MLNS-project-datascienthyris/create_graph_sequence/top_3_edges.ipynb#ch0000001vscode-remote?line=1'>2</a>\u001b[0m dest \u001b[39m=\u001b[39m \u001b[39m'\u001b[39m\u001b[39mdata_pearsonr\u001b[39m\u001b[39m'\u001b[39m\n\u001b[0;32m----> <a href='vscode-notebook-cell://wsl%2Bubuntu/home/polyxene/MLNS-project-datascienthyris/create_graph_sequence/top_3_edges.ipynb#ch0000001vscode-remote?line=2'>3</a>\u001b[0m destination \u001b[39m=\u001b[39m shutil\u001b[39m.\u001b[39;49mcopytree(src, dest) \n\u001b[1;32m      <a href='vscode-notebook-cell://wsl%2Bubuntu/home/polyxene/MLNS-project-datascienthyris/create_graph_sequence/top_3_edges.ipynb#ch0000001vscode-remote?line=3'>4</a>\u001b[0m dest \u001b[39m=\u001b[39m \u001b[39m'\u001b[39m\u001b[39mdata_ncc\u001b[39m\u001b[39m'\u001b[39m\n\u001b[1;32m      <a href='vscode-notebook-cell://wsl%2Bubuntu/home/polyxene/MLNS-project-datascienthyris/create_graph_sequence/top_3_edges.ipynb#ch0000001vscode-remote?line=4'>5</a>\u001b[0m destination \u001b[39m=\u001b[39m shutil\u001b[39m.\u001b[39mcopytree(src, dest)\n",
      "File \u001b[0;32m/usr/lib/python3.8/shutil.py:557\u001b[0m, in \u001b[0;36mcopytree\u001b[0;34m(src, dst, symlinks, ignore, copy_function, ignore_dangling_symlinks, dirs_exist_ok)\u001b[0m\n\u001b[1;32m    <a href='file:///usr/lib/python3.8/shutil.py?line=554'>555</a>\u001b[0m \u001b[39mwith\u001b[39;00m os\u001b[39m.\u001b[39mscandir(src) \u001b[39mas\u001b[39;00m itr:\n\u001b[1;32m    <a href='file:///usr/lib/python3.8/shutil.py?line=555'>556</a>\u001b[0m     entries \u001b[39m=\u001b[39m \u001b[39mlist\u001b[39m(itr)\n\u001b[0;32m--> <a href='file:///usr/lib/python3.8/shutil.py?line=556'>557</a>\u001b[0m \u001b[39mreturn\u001b[39;00m _copytree(entries\u001b[39m=\u001b[39;49mentries, src\u001b[39m=\u001b[39;49msrc, dst\u001b[39m=\u001b[39;49mdst, symlinks\u001b[39m=\u001b[39;49msymlinks,\n\u001b[1;32m    <a href='file:///usr/lib/python3.8/shutil.py?line=557'>558</a>\u001b[0m                  ignore\u001b[39m=\u001b[39;49mignore, copy_function\u001b[39m=\u001b[39;49mcopy_function,\n\u001b[1;32m    <a href='file:///usr/lib/python3.8/shutil.py?line=558'>559</a>\u001b[0m                  ignore_dangling_symlinks\u001b[39m=\u001b[39;49mignore_dangling_symlinks,\n\u001b[1;32m    <a href='file:///usr/lib/python3.8/shutil.py?line=559'>560</a>\u001b[0m                  dirs_exist_ok\u001b[39m=\u001b[39;49mdirs_exist_ok)\n",
      "File \u001b[0;32m/usr/lib/python3.8/shutil.py:458\u001b[0m, in \u001b[0;36m_copytree\u001b[0;34m(entries, src, dst, symlinks, ignore, copy_function, ignore_dangling_symlinks, dirs_exist_ok)\u001b[0m\n\u001b[1;32m    <a href='file:///usr/lib/python3.8/shutil.py?line=454'>455</a>\u001b[0m \u001b[39melse\u001b[39;00m:\n\u001b[1;32m    <a href='file:///usr/lib/python3.8/shutil.py?line=455'>456</a>\u001b[0m     ignored_names \u001b[39m=\u001b[39m \u001b[39mset\u001b[39m()\n\u001b[0;32m--> <a href='file:///usr/lib/python3.8/shutil.py?line=457'>458</a>\u001b[0m os\u001b[39m.\u001b[39;49mmakedirs(dst, exist_ok\u001b[39m=\u001b[39;49mdirs_exist_ok)\n\u001b[1;32m    <a href='file:///usr/lib/python3.8/shutil.py?line=458'>459</a>\u001b[0m errors \u001b[39m=\u001b[39m []\n\u001b[1;32m    <a href='file:///usr/lib/python3.8/shutil.py?line=459'>460</a>\u001b[0m use_srcentry \u001b[39m=\u001b[39m copy_function \u001b[39mis\u001b[39;00m copy2 \u001b[39mor\u001b[39;00m copy_function \u001b[39mis\u001b[39;00m copy\n",
      "File \u001b[0;32m/usr/lib/python3.8/os.py:223\u001b[0m, in \u001b[0;36mmakedirs\u001b[0;34m(name, mode, exist_ok)\u001b[0m\n\u001b[1;32m    <a href='file:///usr/lib/python3.8/os.py?line=220'>221</a>\u001b[0m         \u001b[39mreturn\u001b[39;00m\n\u001b[1;32m    <a href='file:///usr/lib/python3.8/os.py?line=221'>222</a>\u001b[0m \u001b[39mtry\u001b[39;00m:\n\u001b[0;32m--> <a href='file:///usr/lib/python3.8/os.py?line=222'>223</a>\u001b[0m     mkdir(name, mode)\n\u001b[1;32m    <a href='file:///usr/lib/python3.8/os.py?line=223'>224</a>\u001b[0m \u001b[39mexcept\u001b[39;00m \u001b[39mOSError\u001b[39;00m:\n\u001b[1;32m    <a href='file:///usr/lib/python3.8/os.py?line=224'>225</a>\u001b[0m     \u001b[39m# Cannot rely on checking for EEXIST, since the operating system\u001b[39;00m\n\u001b[1;32m    <a href='file:///usr/lib/python3.8/os.py?line=225'>226</a>\u001b[0m     \u001b[39m# could give priority to other errors like EACCES or EROFS\u001b[39;00m\n\u001b[1;32m    <a href='file:///usr/lib/python3.8/os.py?line=226'>227</a>\u001b[0m     \u001b[39mif\u001b[39;00m \u001b[39mnot\u001b[39;00m exist_ok \u001b[39mor\u001b[39;00m \u001b[39mnot\u001b[39;00m path\u001b[39m.\u001b[39misdir(name):\n",
      "\u001b[0;31mFileExistsError\u001b[0m: [Errno 17] File exists: 'data_pearsonr'"
     ]
    }
   ],
   "source": [
    "src = 'data_processed'\n",
    "dest = 'data_pearsonr'\n",
    "destination = shutil.copytree(src, dest) \n",
    "dest = 'data_ncc'\n",
    "destination = shutil.copytree(src, dest) "
   ]
  },
  {
   "cell_type": "code",
   "execution_count": 3,
   "metadata": {},
   "outputs": [],
   "source": [
    "root = \"/home/polyxene/MLNS-project-datascienthyris/create_graph_sequence/data_processed\"\n",
    "Files_found = []\n",
    "for path, subdirs, files in os.walk(root):\n",
    "    for name in files:\n",
    "        Files_found.append(os.path.join(path, name))"
   ]
  },
  {
   "cell_type": "code",
   "execution_count": 4,
   "metadata": {},
   "outputs": [
    {
     "data": {
      "application/vnd.jupyter.widget-view+json": {
       "model_id": "ec36eb7c2bda4da5992a6b38c7bb9185",
       "version_major": 2,
       "version_minor": 0
      },
      "text/plain": [
       "  0%|          | 0/3050 [00:00<?, ?it/s]"
      ]
     },
     "metadata": {},
     "output_type": "display_data"
    },
    {
     "ename": "AttributeError",
     "evalue": "'list' object has no attribute 'to_directed'",
     "output_type": "error",
     "traceback": [
      "\u001b[0;31m---------------------------------------------------------------------------\u001b[0m",
      "\u001b[0;31mAttributeError\u001b[0m                            Traceback (most recent call last)",
      "\u001b[1;32m/home/polyxene/MLNS-project-datascienthyris/create_graph_sequence/top_3_edges.ipynb Cell 4'\u001b[0m in \u001b[0;36m<cell line: 1>\u001b[0;34m()\u001b[0m\n\u001b[1;32m      <a href='vscode-notebook-cell://wsl%2Bubuntu/home/polyxene/MLNS-project-datascienthyris/create_graph_sequence/top_3_edges.ipynb#ch0000003vscode-remote?line=0'>1</a>\u001b[0m \u001b[39mfor\u001b[39;00m file \u001b[39min\u001b[39;00m tqdm(Files_found):\n\u001b[1;32m      <a href='vscode-notebook-cell://wsl%2Bubuntu/home/polyxene/MLNS-project-datascienthyris/create_graph_sequence/top_3_edges.ipynb#ch0000003vscode-remote?line=1'>2</a>\u001b[0m     label, G \u001b[39m=\u001b[39m nx\u001b[39m.\u001b[39mread_gpickle(file)\n\u001b[0;32m----> <a href='vscode-notebook-cell://wsl%2Bubuntu/home/polyxene/MLNS-project-datascienthyris/create_graph_sequence/top_3_edges.ipynb#ch0000003vscode-remote?line=2'>3</a>\u001b[0m     diG_pearson \u001b[39m=\u001b[39m G\u001b[39m.\u001b[39;49mto_directed()\n\u001b[1;32m      <a href='vscode-notebook-cell://wsl%2Bubuntu/home/polyxene/MLNS-project-datascienthyris/create_graph_sequence/top_3_edges.ipynb#ch0000003vscode-remote?line=3'>4</a>\u001b[0m     diG_ncc \u001b[39m=\u001b[39m G\u001b[39m.\u001b[39mto_directed()\n\u001b[1;32m      <a href='vscode-notebook-cell://wsl%2Bubuntu/home/polyxene/MLNS-project-datascienthyris/create_graph_sequence/top_3_edges.ipynb#ch0000003vscode-remote?line=4'>5</a>\u001b[0m     \u001b[39mfor\u001b[39;00m node \u001b[39min\u001b[39;00m diG_pearson\u001b[39m.\u001b[39mnodes():\n",
      "\u001b[0;31mAttributeError\u001b[0m: 'list' object has no attribute 'to_directed'"
     ]
    }
   ],
   "source": [
    "for file in tqdm(Files_found):\n",
    "    with open(file, 'rb') as f:\n",
    "        label, List_G = pickle.load(f)\n",
    "    List_G_ncc = []\n",
    "    List_G_pearsonr = []\n",
    "    for G in List_G:\n",
    "        diG_pearson = G.to_directed()\n",
    "        diG_ncc = G.to_directed()\n",
    "        for node in diG_pearson.nodes():\n",
    "            out_edges = list(diG_pearson.out_edges(nbunch=node, data=\"pearsonr\"))\n",
    "            edges_to_keep = sorted(out_edges, key=lambda tup: tup[2])[-3:]\n",
    "            diG_pearson.remove_edges_from(out_edges)\n",
    "            diG_pearson.add_weighted_edges_from(edges_to_keep)\n",
    "        List_G_pearsonr.append(diG_pearson)\n",
    "        # to_pickle = (label, diG_pearson)\n",
    "        # with open(file.replace(\"data_processed\", \"data_pearsonr\"), \"wb\") as f:\n",
    "        #         pickle.dump(to_pickle, f)\n",
    "        \n",
    "        for node in diG_ncc.nodes():\n",
    "            out_edges = list(diG_ncc.out_edges(nbunch=node, data=\"norm cross correlation\"))\n",
    "            edges_to_keep = sorted(out_edges, key=lambda tup: tup[2])[-3:]\n",
    "            diG_ncc.remove_edges_from(out_edges)\n",
    "            diG_ncc.add_weighted_edges_from(edges_to_keep)\n",
    "        List_G_ncc.append(diG_ncc)\n",
    "        # to_pickle = (label, diG_ncc)\n",
    "        # with open(file.replace(\"data_processed\", \"data_ncc\"), \"wb\") as f:\n",
    "        #         pickle.dump(to_pickle, f)\n",
    "    to_pickle_pearson = (label, List_G_pearsonr)\n",
    "    to_pickle_ncc = (label, List_G_ncc)\n",
    "    with open(file.replace(\"data_processed\", \"data_ncc\"), \"wb\") as f:\n",
    "        pickle.dump(to_pickle_ncc, f)\n",
    "    with open(file.replace(\"data_processed\", \"data_pearsonr\"), \"wb\") as f:\n",
    "        pickle.dump(to_pickle_pearson, f)"
   ]
  },
  {
   "cell_type": "code",
   "execution_count": null,
   "metadata": {},
   "outputs": [
    {
     "data": {
      "text/plain": [
       "'/home/polyxene/MLNS-project-datascienthyris/data_ncc.zip'"
      ]
     },
     "execution_count": 23,
     "metadata": {},
     "output_type": "execute_result"
    }
   ],
   "source": [
    "shutil.make_archive(\"data_ncc\", 'zip', \"data_ncc\")"
   ]
  },
  {
   "cell_type": "code",
   "execution_count": null,
   "metadata": {},
   "outputs": [
    {
     "data": {
      "text/plain": [
       "'/home/polyxene/MLNS-project-datascienthyris/data_pearsonr.zip'"
      ]
     },
     "execution_count": 24,
     "metadata": {},
     "output_type": "execute_result"
    }
   ],
   "source": [
    "shutil.make_archive(\"data_pearsonr\", 'zip', \"data_pearsonr\")"
   ]
  },
  {
   "cell_type": "code",
   "execution_count": null,
   "metadata": {},
   "outputs": [],
   "source": []
  }
 ],
 "metadata": {
  "interpreter": {
   "hash": "7fe33ad88930b679bfa056e9858ff209dfc89b38dfe6aa07887082d3e1ea3e57"
  },
  "kernelspec": {
   "display_name": "Python 3.8.10 ('.venv': venv)",
   "language": "python",
   "name": "python3"
  },
  "language_info": {
   "codemirror_mode": {
    "name": "ipython",
    "version": 3
   },
   "file_extension": ".py",
   "mimetype": "text/x-python",
   "name": "python",
   "nbconvert_exporter": "python",
   "pygments_lexer": "ipython3",
   "version": "3.8.10"
  },
  "orig_nbformat": 4
 },
 "nbformat": 4,
 "nbformat_minor": 2
}
