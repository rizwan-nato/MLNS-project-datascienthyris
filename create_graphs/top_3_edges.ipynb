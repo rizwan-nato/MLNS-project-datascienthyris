{
 "cells": [
  {
   "cell_type": "code",
   "execution_count": 21,
   "metadata": {},
   "outputs": [],
   "source": [
    "import networkx as nx\n",
    "import os\n",
    "from tqdm.notebook import tqdm\n",
    "import scipy.stats\n",
    "import numpy as np\n",
    "import shutil\n",
    "import pickle"
   ]
  },
  {
   "cell_type": "code",
   "execution_count": 2,
   "metadata": {},
   "outputs": [],
   "source": [
    "src = 'data_processed'\n",
    "dest = 'data_pearsonr'\n",
    "destination = shutil.copytree(src, dest) \n",
    "dest = 'data_ncc'\n",
    "destination = shutil.copytree(src, dest) "
   ]
  },
  {
   "cell_type": "code",
   "execution_count": 2,
   "metadata": {},
   "outputs": [],
   "source": [
    "root = \"/home/polyxene/MLNS-project-datascienthyris/data_processed\"\n",
    "Files_found = []\n",
    "for path, subdirs, files in os.walk(root):\n",
    "    for name in files:\n",
    "        Files_found.append(os.path.join(path, name))"
   ]
  },
  {
   "cell_type": "code",
   "execution_count": 22,
   "metadata": {},
   "outputs": [
    {
     "data": {
      "application/vnd.jupyter.widget-view+json": {
       "model_id": "b29b9e47b8cc465b9a08fe32806594b6",
       "version_major": 2,
       "version_minor": 0
      },
      "text/plain": [
       "  0%|          | 0/3050 [00:00<?, ?it/s]"
      ]
     },
     "metadata": {},
     "output_type": "display_data"
    }
   ],
   "source": [
    "for file in tqdm(Files_found):\n",
    "    label, G = nx.read_gpickle(file)\n",
    "    diG_pearson = G.to_directed()\n",
    "    diG_ncc = G.to_directed()\n",
    "    for node in diG_pearson.nodes():\n",
    "        out_edges = list(diG_pearson.out_edges(nbunch=node, data=\"pearsonr\"))\n",
    "        edges_to_keep = sorted(out_edges, key=lambda tup: np.mean(tup[2]))[-3:]\n",
    "        diG_pearson.remove_edges_from(out_edges)\n",
    "        diG_pearson.add_weighted_edges_from(edges_to_keep)\n",
    "    to_pickle = (label, diG_pearson)\n",
    "    with open(file.replace(\"data_processed\", \"data_pearsonr\"), \"wb\") as f:\n",
    "            pickle.dump(to_pickle, f)\n",
    "    \n",
    "    for node in diG_ncc.nodes():\n",
    "        out_edges = list(diG_ncc.out_edges(nbunch=node, data=\"norm cross correlation\"))\n",
    "        edges_to_keep = sorted(out_edges, key=lambda tup: np.mean(tup[2]))[-3:]\n",
    "        diG_ncc.remove_edges_from(out_edges)\n",
    "        diG_ncc.add_weighted_edges_from(edges_to_keep)\n",
    "    to_pickle = (label, diG_ncc)\n",
    "    with open(file.replace(\"data_processed\", \"data_ncc\"), \"wb\") as f:\n",
    "            pickle.dump(to_pickle, f)\n"
   ]
  },
  {
   "cell_type": "code",
   "execution_count": 23,
   "metadata": {},
   "outputs": [
    {
     "data": {
      "text/plain": [
       "'/home/polyxene/MLNS-project-datascienthyris/data_ncc.zip'"
      ]
     },
     "execution_count": 23,
     "metadata": {},
     "output_type": "execute_result"
    }
   ],
   "source": [
    "shutil.make_archive(\"data_ncc\", 'zip', \"data_ncc\")"
   ]
  },
  {
   "cell_type": "code",
   "execution_count": 24,
   "metadata": {},
   "outputs": [
    {
     "data": {
      "text/plain": [
       "'/home/polyxene/MLNS-project-datascienthyris/data_pearsonr.zip'"
      ]
     },
     "execution_count": 24,
     "metadata": {},
     "output_type": "execute_result"
    }
   ],
   "source": [
    "shutil.make_archive(\"data_pearsonr\", 'zip', \"data_pearsonr\")"
   ]
  },
  {
   "cell_type": "code",
   "execution_count": null,
   "metadata": {},
   "outputs": [],
   "source": []
  }
 ],
 "metadata": {
  "interpreter": {
   "hash": "7fe33ad88930b679bfa056e9858ff209dfc89b38dfe6aa07887082d3e1ea3e57"
  },
  "kernelspec": {
   "display_name": "Python 3.8.10 ('.venv': venv)",
   "language": "python",
   "name": "python3"
  },
  "language_info": {
   "codemirror_mode": {
    "name": "ipython",
    "version": 3
   },
   "file_extension": ".py",
   "mimetype": "text/x-python",
   "name": "python",
   "nbconvert_exporter": "python",
   "pygments_lexer": "ipython3",
   "version": "3.8.10"
  },
  "orig_nbformat": 4
 },
 "nbformat": 4,
 "nbformat_minor": 2
}
