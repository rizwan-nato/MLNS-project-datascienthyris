{
 "cells": [
  {
   "cell_type": "code",
   "execution_count": 2,
   "metadata": {},
   "outputs": [],
   "source": [
    "import networkx as nx\n",
    "import os\n",
    "from tqdm.notebook import tqdm\n",
    "import scipy.stats\n",
    "import numpy as np\n",
    "import shutil"
   ]
  },
  {
   "cell_type": "code",
   "execution_count": 4,
   "metadata": {},
   "outputs": [],
   "source": [
    "src = 'data_no_edges'\n",
    "dest = 'data_all_edge_attributes'\n",
    "destination = shutil.copytree(src, dest) "
   ]
  },
  {
   "cell_type": "code",
   "execution_count": 5,
   "metadata": {},
   "outputs": [],
   "source": [
    "root = \"/home/polyxene/MLNS-project-datascienthyris/data_no_edges\"\n",
    "Files_found = []\n",
    "for path, subdirs, files in os.walk(root):\n",
    "    for name in files:\n",
    "        Files_found.append(os.path.join(path, name))"
   ]
  },
  {
   "cell_type": "code",
   "execution_count": 6,
   "metadata": {},
   "outputs": [
    {
     "data": {
      "application/vnd.jupyter.widget-view+json": {
       "model_id": "1af9ddf84d014eaeafa2a58e6df6f448",
       "version_major": 2,
       "version_minor": 0
      },
      "text/plain": [
       "  0%|          | 0/158459 [00:00<?, ?it/s]"
      ]
     },
     "metadata": {},
     "output_type": "display_data"
    },
    {
     "name": "stderr",
     "output_type": "stream",
     "text": [
      "/home/polyxene/MLNS-project-datascienthyris/.venv/lib/python3.8/site-packages/scipy/stats/_stats_py.py:4068: PearsonRConstantInputWarning: An input array is constant; the correlation coefficient is not defined.\n",
      "  warnings.warn(PearsonRConstantInputWarning())\n"
     ]
    }
   ],
   "source": [
    "for file in tqdm(Files_found):\n",
    "    G = nx.read_gpickle(file)\n",
    "    for node1 in G.nodes():\n",
    "        for node2 in G.nodes():\n",
    "            if node1 == node2:\n",
    "                continue\n",
    "            G.add_edge(node1, node2)\n",
    "    Signals = nx.get_node_attributes(G, \"Signal\")\n",
    "    edge_attrib = {}\n",
    "    for edge in G.edges():\n",
    "        node1, node2 = edge\n",
    "        signal1 = Signals[node1]\n",
    "        signal2 = Signals[node2]\n",
    "        coeff_pearsonr, pvalue = scipy.stats.pearsonr(signal1, signal2)\n",
    "        norm_ccorr = np.sum(signal1*signal2) / (np.sqrt(np.sum(signal1**2)*np.sum(signal2**2)))\n",
    "        edge_attrib[edge] = {\"pearsonr\": np.abs(coeff_pearsonr), \"norm cross correlation\": np.abs(norm_ccorr)}\n",
    "    nx.set_edge_attributes(G, edge_attrib)\n",
    "    nx.write_gpickle(G, file.replace(\"data_no_edges\", \"data_all_edge_attributes\"))"
   ]
  },
  {
   "cell_type": "markdown",
   "metadata": {},
   "source": []
  }
 ],
 "metadata": {
  "interpreter": {
   "hash": "7fe33ad88930b679bfa056e9858ff209dfc89b38dfe6aa07887082d3e1ea3e57"
  },
  "kernelspec": {
   "display_name": "Python 3.8.10 ('.venv': venv)",
   "language": "python",
   "name": "python3"
  },
  "language_info": {
   "codemirror_mode": {
    "name": "ipython",
    "version": 3
   },
   "file_extension": ".py",
   "mimetype": "text/x-python",
   "name": "python",
   "nbconvert_exporter": "python",
   "pygments_lexer": "ipython3",
   "version": "3.8.10"
  },
  "orig_nbformat": 4
 },
 "nbformat": 4,
 "nbformat_minor": 2
}
